{
 "cells": [
  {
   "cell_type": "markdown",
   "metadata": {
    "collapsed": false
   },
   "source": [
    "## Hydrating twitter IDs\n",
    "\n",
    "Twitters Terms of Service do not allow the sharing of the complete collected dataset. Instead, one can only publish derivative/aggregated data or list of (tweet/user) ids. To recreate datasets, these ids can then be used to request the full data via the Twitter API.\n",
    "\n",
    "(Assuming it hasn't been deleted since.)\n",
    "\n",
    "The act of turning a list of ids into a list of full data objects is sometimes called \"hydrating\" and is what this notebook will show you how to do.\n",
    "\n",
    "This notebook only shows you how to hydrate user id. While the process is easily adapted to tweet ids, I would recommend a more ... complex approach than the one taken here to make hydrating a collection of millions of tweets more feasable. (Using multiple accounts for example.)\n"
   ]
  },
  {
   "cell_type": "code",
   "execution_count": null,
   "metadata": {
    "collapsed": false
   },
   "outputs": [],
   "source": [
    "# get ids to hydrate\n",
    "\n",
    "with open(\"user-ids.txt\") as f:\n",
    "    user_ids = [x.strip() for x in f.readlines()]\n"
   ]
  },
  {
   "cell_type": "code",
   "execution_count": null,
   "metadata": {
    "collapsed": false
   },
   "outputs": [],
   "source": [
    "print(user_ids[:10])\n",
    "print(\"Number of ids:\", len(user_ids))"
   ]
  },
  {
   "cell_type": "markdown",
   "metadata": {},
   "source": [
    "Twitters users/lookup API endpoint returns a maximum of 100 user objects per request, so let's chunk our list into lists of 100 ids each."
   ]
  },
  {
   "cell_type": "code",
   "execution_count": null,
   "metadata": {
    "collapsed": false
   },
   "outputs": [],
   "source": [
    "id_chunks = [user_ids[i:i+100] for i  in range(0, len(user_ids), 100)]\n",
    "\n",
    "len(id_chunks)"
   ]
  },
  {
   "cell_type": "markdown",
   "metadata": {},
   "source": [
    "To connect to the Twitter API, you will need authentication. For details see [the Python Twitter Tools documentation](https://github.com/sixohsix/twitter/tree/master#working-with-oauth).\n",
    "\n",
    "Once you have your authentication tokens, insert them below to continue."
   ]
  },
  {
   "cell_type": "code",
   "execution_count": null,
   "metadata": {
    "collapsed": true
   },
   "outputs": [],
   "source": [
    "#### config ####\n",
    "\n",
    "token = \"\"\n",
    "token_secret = \"\"\n",
    "consumer_key = \"\"\n",
    "consumer_secret = \"\"\n",
    "\n",
    "\n"
   ]
  },
  {
   "cell_type": "code",
   "execution_count": null,
   "metadata": {
    "collapsed": false
   },
   "outputs": [],
   "source": [
    "# import python twitter tools\n",
    "\n",
    "from twitter import *\n",
    "\n",
    "# get twitter connection object\n",
    "\n",
    "t = Twitter(auth=OAuth(token, token_secret, consumer_key, consumer_secret))\n",
    "\n",
    "# check credentials\n",
    "\n",
    "t.account.verify_credentials()"
   ]
  },
  {
   "cell_type": "markdown",
   "metadata": {},
   "source": [
    "If that worked we can start downloading the user objects."
   ]
  },
  {
   "cell_type": "code",
   "execution_count": null,
   "metadata": {
    "collapsed": true
   },
   "outputs": [],
   "source": [
    "user_objects = []\n",
    "\n",
    "for chunk in id_chunks:\n",
    "    user_objects.extend(t.users.lookup(user_id=\",\".join(chunk), _method=\"POST\", retry=True))\n",
    "    \n",
    "len(user_objects)"
   ]
  },
  {
   "cell_type": "markdown",
   "metadata": {
    "collapsed": false
   },
   "source": [
    "We now have a list of dictionaries built after the XML reply of the twitter API, with keys like \"id\", \"screen_name\", etc.\n",
    "\n",
    "You will notive that we only received a part of the 11189 user objects. (At the time of writing, the code above returns slightly over 9800 user objects.) This happens because the other accounts have since been deleted, either by Twitter moderation or through user choice.\n",
    "\n",
    "These user objects can now be pickled for later processing in python or saved in some other format at your leisure.\n",
    "\n",
    "Have fun. :)"
   ]
  }
 ],
 "metadata": {
  "kernelspec": {
   "display_name": "Python 3",
   "language": "python",
   "name": "python3"
  },
  "language_info": {
   "codemirror_mode": {
    "name": "ipython",
    "version": 3
   },
   "file_extension": ".py",
   "mimetype": "text/x-python",
   "name": "python",
   "nbconvert_exporter": "python",
   "pygments_lexer": "ipython3",
   "version": "3.5.2"
  }
 },
 "nbformat": 4,
 "nbformat_minor": 0
}
